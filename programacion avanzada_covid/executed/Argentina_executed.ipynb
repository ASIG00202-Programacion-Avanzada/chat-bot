{
 "cells": [
  {
   "cell_type": "code",
   "execution_count": 1,
   "id": "66521fde",
   "metadata": {
    "execution": {
     "iopub.execute_input": "2025-10-03T01:52:52.555918Z",
     "iopub.status.busy": "2025-10-03T01:52:52.553903Z",
     "iopub.status.idle": "2025-10-03T01:52:52.594234Z",
     "shell.execute_reply": "2025-10-03T01:52:52.588446Z"
    },
    "papermill": {
     "duration": 0.055977,
     "end_time": "2025-10-03T01:52:52.599056",
     "exception": false,
     "start_time": "2025-10-03T01:52:52.543079",
     "status": "completed"
    },
    "tags": [
     "injected-parameters"
    ]
   },
   "outputs": [],
   "source": [
    "# Parameters\n",
    "country = \"Argentina\"\n"
   ]
  },
  {
   "cell_type": "code",
   "execution_count": 2,
   "id": "b34b0a25",
   "metadata": {
    "execution": {
     "iopub.execute_input": "2025-10-03T01:52:52.612103Z",
     "iopub.status.busy": "2025-10-03T01:52:52.612103Z",
     "iopub.status.idle": "2025-10-03T01:52:52.622213Z",
     "shell.execute_reply": "2025-10-03T01:52:52.622213Z"
    },
    "papermill": {
     "duration": 0.020068,
     "end_time": "2025-10-03T01:52:52.625711",
     "exception": false,
     "start_time": "2025-10-03T01:52:52.605643",
     "status": "completed"
    },
    "tags": [],
    "vscode": {
     "languageId": "plaintext"
    }
   },
   "outputs": [],
   "source": [
    "# Parámetros del notebook - serán sobrescritos por Papermill\n",
    "# Este es el valor por defecto que se usará si no se pasa el parámetro\n",
    "country = \"Argentina\""
   ]
  },
  {
   "cell_type": "code",
   "execution_count": 3,
   "id": "4056e562",
   "metadata": {
    "execution": {
     "iopub.execute_input": "2025-10-03T01:52:52.637438Z",
     "iopub.status.busy": "2025-10-03T01:52:52.637438Z",
     "iopub.status.idle": "2025-10-03T01:52:52.651715Z",
     "shell.execute_reply": "2025-10-03T01:52:52.649303Z"
    },
    "papermill": {
     "duration": 0.022654,
     "end_time": "2025-10-03T01:52:52.651715",
     "exception": false,
     "start_time": "2025-10-03T01:52:52.629061",
     "status": "completed"
    },
    "tags": [],
    "vscode": {
     "languageId": "plaintext"
    }
   },
   "outputs": [
    {
     "name": "stdout",
     "output_type": "stream",
     "text": [
      "Procesando país: Argentina\n",
      "Advertencia: Usando país por defecto. Asegúrate de pasar el parámetro 'country' con Papermill\n",
      "Archivo de datos esperado: Argentina.csv\n"
     ]
    }
   ],
   "source": [
    "# Configuración y validación de parámetros\n",
    "from pathlib import Path\n",
    "\n",
    "print(f\"Procesando país: {country}\")\n",
    "\n",
    "# Validar que se pasó un parámetro válido\n",
    "if country == \"Argentina\":\n",
    "    print(\"Advertencia: Usando país por defecto. Asegúrate de pasar el parámetro 'country' con Papermill\")\n",
    "\n",
    "# Configuración de directorios\n",
    "data_dir = Path('data')\n",
    "outdir = Path('output')\n",
    "outdir.mkdir(parents=True, exist_ok=True)\n",
    "\n",
    "# Crear nombre seguro para archivos\n",
    "country_safe = country.replace('/', '_').replace(' ', '_')\n",
    "print(f\"Archivo de datos esperado: {country_safe}.csv\")"
   ]
  },
  {
   "cell_type": "code",
   "execution_count": 4,
   "id": "1fc0f4bc",
   "metadata": {
    "execution": {
     "iopub.execute_input": "2025-10-03T01:52:52.664996Z",
     "iopub.status.busy": "2025-10-03T01:52:52.663912Z",
     "iopub.status.idle": "2025-10-03T01:52:54.996285Z",
     "shell.execute_reply": "2025-10-03T01:52:54.995201Z"
    },
    "papermill": {
     "duration": 2.341075,
     "end_time": "2025-10-03T01:52:54.999286",
     "exception": false,
     "start_time": "2025-10-03T01:52:52.658211",
     "status": "completed"
    },
    "tags": []
   },
   "outputs": [
    {
     "name": "stdout",
     "output_type": "stream",
     "text": [
      "Librerías importadas correctamente\n"
     ]
    }
   ],
   "source": [
    "# Importar librerías necesarias\n",
    "import pandas as pd\n",
    "from pathlib import Path\n",
    "import matplotlib.pyplot as plt\n",
    "import json\n",
    "import warnings\n",
    "warnings.filterwarnings('ignore')\n",
    "\n",
    "print(\"Librerías importadas correctamente\")\n"
   ]
  },
  {
   "cell_type": "code",
   "execution_count": 5,
   "id": "d3fdb5ce",
   "metadata": {
    "execution": {
     "iopub.execute_input": "2025-10-03T01:52:55.007236Z",
     "iopub.status.busy": "2025-10-03T01:52:55.002813Z",
     "iopub.status.idle": "2025-10-03T01:52:55.030719Z",
     "shell.execute_reply": "2025-10-03T01:52:55.028508Z"
    },
    "papermill": {
     "duration": 0.03022,
     "end_time": "2025-10-03T01:52:55.033033",
     "exception": false,
     "start_time": "2025-10-03T01:52:55.002813",
     "status": "completed"
    },
    "tags": []
   },
   "outputs": [
    {
     "name": "stdout",
     "output_type": "stream",
     "text": [
      "Cargando datos desde: data\\Argentina.csv\n",
      "Datos cargados: 1143 registros desde 2020-01-22 00:00:00 hasta 2023-03-09 00:00:00\n"
     ]
    }
   ],
   "source": [
    "# Cargar y validar datos\n",
    "fpath = data_dir / f'{country_safe}.csv'\n",
    "\n",
    "if not fpath.exists():\n",
    "    raise FileNotFoundError(f'Archivo de datos no encontrado: {fpath}')\n",
    "\n",
    "print(f\"Cargando datos desde: {fpath}\")\n",
    "df = pd.read_csv(fpath, parse_dates=['date'])\n",
    "\n",
    "if 'confirmed' not in df.columns:\n",
    "    raise KeyError('El CSV no contiene la columna \"confirmed\"')\n",
    "\n",
    "print(f\"Datos cargados: {len(df)} registros desde {df['date'].min()} hasta {df['date'].max()}\")\n"
   ]
  },
  {
   "cell_type": "code",
   "execution_count": 6,
   "id": "0f21b303",
   "metadata": {
    "execution": {
     "iopub.execute_input": "2025-10-03T01:52:55.041395Z",
     "iopub.status.busy": "2025-10-03T01:52:55.041395Z",
     "iopub.status.idle": "2025-10-03T01:52:55.061986Z",
     "shell.execute_reply": "2025-10-03T01:52:55.061166Z"
    },
    "papermill": {
     "duration": 0.031799,
     "end_time": "2025-10-03T01:52:55.064832",
     "exception": false,
     "start_time": "2025-10-03T01:52:55.033033",
     "status": "completed"
    },
    "tags": []
   },
   "outputs": [
    {
     "name": "stdout",
     "output_type": "stream",
     "text": [
      "Aplicando transformaciones...\n",
      "Transformaciones aplicadas:\n",
      "   - Nuevos casos diarios calculados\n",
      "   - Media móvil de 7 días calculada\n",
      "   - Total de casos confirmados: 10,044,957\n",
      "   - Últimos nuevos casos: 0\n"
     ]
    }
   ],
   "source": [
    "# Procesar y transformar datos\n",
    "print(\"Aplicando transformaciones...\")\n",
    "\n",
    "# Ordenar por fecha\n",
    "df = df.sort_values('date').reset_index(drop=True)\n",
    "\n",
    "# Calcular nuevos casos diarios\n",
    "df['new_confirmed'] = df['confirmed'].diff().fillna(df['confirmed'])\n",
    "df['new_confirmed'] = df['new_confirmed'].clip(lower=0)  # No permitir valores negativos\n",
    "\n",
    "# Calcular media móvil de 7 días\n",
    "df['ma7_new'] = df['new_confirmed'].rolling(window=7, min_periods=1).mean()\n",
    "\n",
    "print(f\"Transformaciones aplicadas:\")\n",
    "print(f\"   - Nuevos casos diarios calculados\")\n",
    "print(f\"   - Media móvil de 7 días calculada\")\n",
    "print(f\"   - Total de casos confirmados: {int(df['confirmed'].iloc[-1]):,}\")\n",
    "print(f\"   - Últimos nuevos casos: {int(df['new_confirmed'].iloc[-1]):,}\")\n"
   ]
  },
  {
   "cell_type": "code",
   "execution_count": 7,
   "id": "b4a1c578",
   "metadata": {
    "execution": {
     "iopub.execute_input": "2025-10-03T01:52:55.071547Z",
     "iopub.status.busy": "2025-10-03T01:52:55.071547Z",
     "iopub.status.idle": "2025-10-03T01:52:55.085926Z",
     "shell.execute_reply": "2025-10-03T01:52:55.085926Z"
    },
    "papermill": {
     "duration": 0.020117,
     "end_time": "2025-10-03T01:52:55.088409",
     "exception": false,
     "start_time": "2025-10-03T01:52:55.068292",
     "status": "completed"
    },
    "tags": []
   },
   "outputs": [
    {
     "name": "stdout",
     "output_type": "stream",
     "text": [
      "Generando resumen estadístico...\n",
      "Resumen guardado en: output\\Argentina_summary.json\n"
     ]
    }
   ],
   "source": [
    "# Generar resumen estadístico\n",
    "print(\"Generando resumen estadístico...\")\n",
    "\n",
    "summary = {\n",
    "    'country': country,\n",
    "    'total_confirmed': int(df['confirmed'].iloc[-1]) if len(df) else 0,\n",
    "    'latest_new': int(df['new_confirmed'].iloc[-1]) if len(df) else 0,\n",
    "    'n_days': int(len(df)),\n",
    "    'first_date': str(df['date'].min()) if len(df) else None,\n",
    "    'last_date': str(df['date'].max()) if len(df) else None,\n",
    "    'max_daily': int(df['new_confirmed'].max()) if len(df) else 0,\n",
    "    'avg_daily': round(float(df['new_confirmed'].mean()), 2) if len(df) else 0\n",
    "}\n",
    "\n",
    "# Guardar resumen en JSON\n",
    "summary_path = outdir / f'{country_safe}_summary.json'\n",
    "summary_path.write_text(json.dumps(summary, ensure_ascii=False, indent=2))\n",
    "print(f\"Resumen guardado en: {summary_path}\")\n"
   ]
  },
  {
   "cell_type": "code",
   "execution_count": 8,
   "id": "967ab73a",
   "metadata": {
    "execution": {
     "iopub.execute_input": "2025-10-03T01:52:55.095923Z",
     "iopub.status.busy": "2025-10-03T01:52:55.094879Z",
     "iopub.status.idle": "2025-10-03T01:52:58.236367Z",
     "shell.execute_reply": "2025-10-03T01:52:58.236367Z"
    },
    "papermill": {
     "duration": 3.149278,
     "end_time": "2025-10-03T01:52:58.239735",
     "exception": false,
     "start_time": "2025-10-03T01:52:55.090457",
     "status": "completed"
    },
    "tags": []
   },
   "outputs": [
    {
     "name": "stdout",
     "output_type": "stream",
     "text": [
      "Generando visualizaciones...\n"
     ]
    },
    {
     "name": "stdout",
     "output_type": "stream",
     "text": [
      "Gráfico acumulado guardado: output\\Argentina_cumulative.png\n"
     ]
    },
    {
     "name": "stdout",
     "output_type": "stream",
     "text": [
      "Gráfico diario guardado: output\\Argentina_daily_ma7.png\n"
     ]
    }
   ],
   "source": [
    "# Generar visualizaciones\n",
    "if len(df) > 0:\n",
    "    print(\"Generando visualizaciones...\")\n",
    "    \n",
    "    # Configurar estilo de matplotlib\n",
    "    import matplotlib\n",
    "    plt.style.use('default')\n",
    "    matplotlib.rcParams['figure.facecolor'] = 'white'\n",
    "    matplotlib.rcParams['axes.facecolor'] = 'white'\n",
    "    \n",
    "    # Gráfico 1: Casos acumulados\n",
    "    fig, ax = plt.subplots(figsize=(12, 6))\n",
    "    ax.plot(df['date'], df['confirmed'], color='#2E86AB', linewidth=2.5, label='Casos acumulados')\n",
    "    ax.set_title(f'Casos confirmados acumulados - {country}', fontsize=14, fontweight='bold')\n",
    "    ax.set_xlabel('Fecha', fontsize=12)\n",
    "    ax.set_ylabel('Casos confirmados', fontsize=12)\n",
    "    ax.grid(True, alpha=0.3)\n",
    "    ax.legend()\n",
    "    \n",
    "    # Formatear eje Y con separadores de miles\n",
    "    ax.yaxis.set_major_formatter(plt.FuncFormatter(lambda x, p: f'{x:,.0f}'))\n",
    "    \n",
    "    plt.tight_layout()\n",
    "    cum_path = outdir / f'{country_safe}_cumulative.png'\n",
    "    fig.savefig(cum_path, dpi=300, bbox_inches='tight')\n",
    "    plt.close(fig)\n",
    "    print(f\"Gráfico acumulado guardado: {cum_path}\")\n",
    "    \n",
    "    # Gráfico 2: Nuevos casos diarios y media móvil\n",
    "    fig, ax = plt.subplots(figsize=(12, 6))\n",
    "    ax.bar(df['date'], df['new_confirmed'], color='#F24236', alpha=0.6, label='Nuevos casos diarios', width=1)\n",
    "    ax.plot(df['date'], df['ma7_new'], color='#F6AE2D', linewidth=3, label='Media móvil 7 días')\n",
    "    ax.set_title(f'Nuevos casos diarios y media móvil - {country}', fontsize=14, fontweight='bold')\n",
    "    ax.set_xlabel('Fecha', fontsize=12)\n",
    "    ax.set_ylabel('Nuevos casos', fontsize=12)\n",
    "    ax.legend()\n",
    "    ax.grid(True, alpha=0.3)\n",
    "    \n",
    "    # Formatear eje Y\n",
    "    ax.yaxis.set_major_formatter(plt.FuncFormatter(lambda x, p: f'{x:,.0f}'))\n",
    "    \n",
    "    plt.tight_layout()\n",
    "    daily_path = outdir / f'{country_safe}_daily_ma7.png'\n",
    "    fig.savefig(daily_path, dpi=300, bbox_inches='tight')\n",
    "    plt.close(fig)\n",
    "    print(f\"Gráfico diario guardado: {daily_path}\")\n",
    "    \n",
    "else:\n",
    "    print(\"No hay datos para generar visualizaciones\")\n"
   ]
  },
  {
   "cell_type": "code",
   "execution_count": 9,
   "id": "912b3029",
   "metadata": {
    "execution": {
     "iopub.execute_input": "2025-10-03T01:52:58.247691Z",
     "iopub.status.busy": "2025-10-03T01:52:58.247691Z",
     "iopub.status.idle": "2025-10-03T01:52:58.255181Z",
     "shell.execute_reply": "2025-10-03T01:52:58.255181Z"
    },
    "papermill": {
     "duration": 0.013498,
     "end_time": "2025-10-03T01:52:58.257244",
     "exception": false,
     "start_time": "2025-10-03T01:52:58.243746",
     "status": "completed"
    },
    "tags": []
   },
   "outputs": [
    {
     "name": "stdout",
     "output_type": "stream",
     "text": [
      "\n",
      "==================================================\n",
      "PROCESAMIENTO COMPLETADO PARA ARGENTINA\n",
      "==================================================\n",
      "Total de casos confirmados: 10,044,957\n",
      "Últimos nuevos casos: 0\n",
      "Período: 2020-01-22 00:00:00 a 2023-03-09 00:00:00\n",
      "Días de datos: 1143\n",
      "Máximo diario: 139,853\n",
      "Promedio diario: 8788.2\n",
      "==================================================\n"
     ]
    }
   ],
   "source": [
    "# Resumen final del procesamiento\n",
    "print(\"\\n\" + \"=\"*50)\n",
    "print(f\"PROCESAMIENTO COMPLETADO PARA {country.upper()}\")\n",
    "print(\"=\"*50)\n",
    "print(f\"Total de casos confirmados: {summary['total_confirmed']:,}\")\n",
    "print(f\"Últimos nuevos casos: {summary['latest_new']:,}\")\n",
    "print(f\"Período: {summary['first_date']} a {summary['last_date']}\")\n",
    "print(f\"Días de datos: {summary['n_days']}\")\n",
    "print(f\"Máximo diario: {summary['max_daily']:,}\")\n",
    "print(f\"Promedio diario: {summary['avg_daily']:.1f}\")\n",
    "print(\"=\"*50)\n"
   ]
  }
 ],
 "metadata": {
  "language_info": {
   "codemirror_mode": {
    "name": "ipython",
    "version": 3
   },
   "file_extension": ".py",
   "mimetype": "text/x-python",
   "name": "python",
   "nbconvert_exporter": "python",
   "pygments_lexer": "ipython3",
   "version": "3.7.9"
  },
  "papermill": {
   "default_parameters": {},
   "duration": 12.033473,
   "end_time": "2025-10-03T01:53:01.876021",
   "environment_variables": {},
   "exception": null,
   "input_path": "notebooks\\template_notebook.ipynb",
   "output_path": "executed\\Argentina_executed.ipynb",
   "parameters": {
    "country": "Argentina"
   },
   "start_time": "2025-10-03T01:52:49.842548",
   "version": "2.4.0"
  }
 },
 "nbformat": 4,
 "nbformat_minor": 5
}