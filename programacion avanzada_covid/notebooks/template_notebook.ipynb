{
 "cells": [
  {
   "cell_type": "code",
   "execution_count": null,
   "id": "b34b0a25",
   "metadata": {
    "vscode": {
     "languageId": "plaintext"
    }
   },
   "outputs": [],
   "source": [
    "# Parámetros del notebook - serán sobrescritos por Papermill\n",
    "# Este es el valor por defecto que se usará si no se pasa el parámetro\n",
    "country = \"Argentina\""
   ]
  },
  {
   "cell_type": "code",
   "execution_count": null,
   "id": "4056e562",
   "metadata": {
    "vscode": {
     "languageId": "plaintext"
    }
   },
   "outputs": [],
   "source": [
    "# Configuración y validación de parámetros\n",
    "from pathlib import Path\n",
    "\n",
    "print(f\"Procesando país: {country}\")\n",
    "\n",
    "# Validar que se pasó un parámetro válido\n",
    "if country == \"Argentina\":\n",
    "    print(\"Advertencia: Usando país por defecto. Asegúrate de pasar el parámetro 'country' con Papermill\")\n",
    "\n",
    "# Configuración de directorios\n",
    "data_dir = Path('data')\n",
    "outdir = Path('output')\n",
    "outdir.mkdir(parents=True, exist_ok=True)\n",
    "\n",
    "# Crear nombre seguro para archivos\n",
    "country_safe = country.replace('/', '_').replace(' ', '_')\n",
    "print(f\"Archivo de datos esperado: {country_safe}.csv\")"
   ]
  },
  {
   "cell_type": "code",
   "execution_count": null,
   "id": "1fc0f4bc",
   "metadata": {},
   "outputs": [],
   "source": [
    "# Importar librerías necesarias\n",
    "import pandas as pd\n",
    "from pathlib import Path\n",
    "import matplotlib.pyplot as plt\n",
    "import json\n",
    "import warnings\n",
    "warnings.filterwarnings('ignore')\n",
    "\n",
    "print(\"Librerías importadas correctamente\")\n"
   ]
  },
  {
   "cell_type": "code",
   "execution_count": null,
   "id": "d3fdb5ce",
   "metadata": {},
   "outputs": [],
   "source": [
    "# Cargar y validar datos\n",
    "fpath = data_dir / f'{country_safe}.csv'\n",
    "\n",
    "if not fpath.exists():\n",
    "    raise FileNotFoundError(f'Archivo de datos no encontrado: {fpath}')\n",
    "\n",
    "print(f\"Cargando datos desde: {fpath}\")\n",
    "df = pd.read_csv(fpath, parse_dates=['date'])\n",
    "\n",
    "if 'confirmed' not in df.columns:\n",
    "    raise KeyError('El CSV no contiene la columna \"confirmed\"')\n",
    "\n",
    "print(f\"Datos cargados: {len(df)} registros desde {df['date'].min()} hasta {df['date'].max()}\")\n"
   ]
  },
  {
   "cell_type": "code",
   "execution_count": null,
   "id": "0f21b303",
   "metadata": {},
   "outputs": [],
   "source": [
    "# Procesar y transformar datos\n",
    "print(\"Aplicando transformaciones...\")\n",
    "\n",
    "# Ordenar por fecha\n",
    "df = df.sort_values('date').reset_index(drop=True)\n",
    "\n",
    "# Calcular nuevos casos diarios\n",
    "df['new_confirmed'] = df['confirmed'].diff().fillna(df['confirmed'])\n",
    "df['new_confirmed'] = df['new_confirmed'].clip(lower=0)  # No permitir valores negativos\n",
    "\n",
    "# Calcular media móvil de 7 días\n",
    "df['ma7_new'] = df['new_confirmed'].rolling(window=7, min_periods=1).mean()\n",
    "\n",
    "print(f\"Transformaciones aplicadas:\")\n",
    "print(f\"   - Nuevos casos diarios calculados\")\n",
    "print(f\"   - Media móvil de 7 días calculada\")\n",
    "print(f\"   - Total de casos confirmados: {int(df['confirmed'].iloc[-1]):,}\")\n",
    "print(f\"   - Últimos nuevos casos: {int(df['new_confirmed'].iloc[-1]):,}\")\n"
   ]
  },
  {
   "cell_type": "code",
   "execution_count": null,
   "id": "b4a1c578",
   "metadata": {},
   "outputs": [],
   "source": [
    "# Generar resumen estadístico\n",
    "print(\"Generando resumen estadístico...\")\n",
    "\n",
    "summary = {\n",
    "    'country': country,\n",
    "    'total_confirmed': int(df['confirmed'].iloc[-1]) if len(df) else 0,\n",
    "    'latest_new': int(df['new_confirmed'].iloc[-1]) if len(df) else 0,\n",
    "    'n_days': int(len(df)),\n",
    "    'first_date': str(df['date'].min()) if len(df) else None,\n",
    "    'last_date': str(df['date'].max()) if len(df) else None,\n",
    "    'max_daily': int(df['new_confirmed'].max()) if len(df) else 0,\n",
    "    'avg_daily': round(float(df['new_confirmed'].mean()), 2) if len(df) else 0\n",
    "}\n",
    "\n",
    "# Guardar resumen en JSON\n",
    "summary_path = outdir / f'{country_safe}_summary.json'\n",
    "summary_path.write_text(json.dumps(summary, ensure_ascii=False, indent=2))\n",
    "print(f\"Resumen guardado en: {summary_path}\")\n"
   ]
  },
  {
   "cell_type": "code",
   "execution_count": null,
   "id": "967ab73a",
   "metadata": {},
   "outputs": [],
   "source": [
    "# Generar visualizaciones\n",
    "if len(df) > 0:\n",
    "    print(\"Generando visualizaciones...\")\n",
    "    \n",
    "    # Configurar estilo de matplotlib\n",
    "    import matplotlib\n",
    "    plt.style.use('default')\n",
    "    matplotlib.rcParams['figure.facecolor'] = 'white'\n",
    "    matplotlib.rcParams['axes.facecolor'] = 'white'\n",
    "    \n",
    "    # Gráfico 1: Casos acumulados\n",
    "    fig, ax = plt.subplots(figsize=(12, 6))\n",
    "    ax.plot(df['date'], df['confirmed'], color='#2E86AB', linewidth=2.5, label='Casos acumulados')\n",
    "    ax.set_title(f'Casos confirmados acumulados - {country}', fontsize=14, fontweight='bold')\n",
    "    ax.set_xlabel('Fecha', fontsize=12)\n",
    "    ax.set_ylabel('Casos confirmados', fontsize=12)\n",
    "    ax.grid(True, alpha=0.3)\n",
    "    ax.legend()\n",
    "    \n",
    "    # Formatear eje Y con separadores de miles\n",
    "    ax.yaxis.set_major_formatter(plt.FuncFormatter(lambda x, p: f'{x:,.0f}'))\n",
    "    \n",
    "    plt.tight_layout()\n",
    "    cum_path = outdir / f'{country_safe}_cumulative.png'\n",
    "    fig.savefig(cum_path, dpi=300, bbox_inches='tight')\n",
    "    plt.close(fig)\n",
    "    print(f\"Gráfico acumulado guardado: {cum_path}\")\n",
    "    \n",
    "    # Gráfico 2: Nuevos casos diarios y media móvil\n",
    "    fig, ax = plt.subplots(figsize=(12, 6))\n",
    "    ax.bar(df['date'], df['new_confirmed'], color='#F24236', alpha=0.6, label='Nuevos casos diarios', width=1)\n",
    "    ax.plot(df['date'], df['ma7_new'], color='#F6AE2D', linewidth=3, label='Media móvil 7 días')\n",
    "    ax.set_title(f'Nuevos casos diarios y media móvil - {country}', fontsize=14, fontweight='bold')\n",
    "    ax.set_xlabel('Fecha', fontsize=12)\n",
    "    ax.set_ylabel('Nuevos casos', fontsize=12)\n",
    "    ax.legend()\n",
    "    ax.grid(True, alpha=0.3)\n",
    "    \n",
    "    # Formatear eje Y\n",
    "    ax.yaxis.set_major_formatter(plt.FuncFormatter(lambda x, p: f'{x:,.0f}'))\n",
    "    \n",
    "    plt.tight_layout()\n",
    "    daily_path = outdir / f'{country_safe}_daily_ma7.png'\n",
    "    fig.savefig(daily_path, dpi=300, bbox_inches='tight')\n",
    "    plt.close(fig)\n",
    "    print(f\"Gráfico diario guardado: {daily_path}\")\n",
    "    \n",
    "else:\n",
    "    print(\"No hay datos para generar visualizaciones\")\n"
   ]
  },
  {
   "cell_type": "code",
   "execution_count": null,
   "id": "912b3029",
   "metadata": {},
   "outputs": [],
   "source": [
    "# Resumen final del procesamiento\n",
    "print(\"\\n\" + \"=\"*50)\n",
    "print(f\"PROCESAMIENTO COMPLETADO PARA {country.upper()}\")\n",
    "print(\"=\"*50)\n",
    "print(f\"Total de casos confirmados: {summary['total_confirmed']:,}\")\n",
    "print(f\"Últimos nuevos casos: {summary['latest_new']:,}\")\n",
    "print(f\"Período: {summary['first_date']} a {summary['last_date']}\")\n",
    "print(f\"Días de datos: {summary['n_days']}\")\n",
    "print(f\"Máximo diario: {summary['max_daily']:,}\")\n",
    "print(f\"Promedio diario: {summary['avg_daily']:.1f}\")\n",
    "print(\"=\"*50)\n"
   ]
  }
 ],
 "metadata": {
  "language_info": {
   "name": "python"
  }
 },
 "nbformat": 4,
 "nbformat_minor": 5
}
